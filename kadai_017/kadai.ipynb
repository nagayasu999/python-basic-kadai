{
  "nbformat": 4,
  "nbformat_minor": 0,
  "metadata": {
    "colab": {
      "provenance": []
    },
    "kernelspec": {
      "name": "python3",
      "display_name": "Python 3"
    },
    "language_info": {
      "name": "python"
    }
  },
  "cells": [
    {
      "cell_type": "code",
      "source": [
        "class Human:\n",
        "    def __init__(self, name, age):\n",
        "        self.name = name\n",
        "        self.age = age\n",
        "\n",
        "    def set_name(self, name):\n",
        "        self.name = name\n",
        "\n",
        "    def set_age(self, age):\n",
        "        self.age = age\n",
        "\n",
        "    def check_adult(self):\n",
        "        if self.age >= 20:\n",
        "            return \"成年\"\n",
        "        else:\n",
        "            return \"未成年\"\n",
        "\n",
        "    def printinfo(self):\n",
        "        adult_status = self.check_adult()\n",
        "        print(f\"名前: {self.name}, 年齢: {self.age}, ({adult_status})\")\n",
        "\n",
        "user_names = [\"侍太郎\", \"侍一郎\", \"侍二郎\", \"侍三郎\", \"侍四郎\"]\n",
        "user_ages  = [18, 33, 29, 25, 15]\n",
        "\n",
        "for i in range(len(user_names)):\n",
        "    human = Human(user_names[i], user_ages[i])\n",
        "    human.printinfo()\n",
        "\n"
      ],
      "metadata": {
        "colab": {
          "base_uri": "https://localhost:8080/"
        },
        "id": "XsRXwO-KIauF",
        "outputId": "af6ad2a8-9504-40ba-85c8-d4337c1f8808"
      },
      "execution_count": 23,
      "outputs": [
        {
          "output_type": "stream",
          "name": "stdout",
          "text": [
            "名前: 侍太郎, 年齢: 18, (未成年)\n",
            "名前: 侍一郎, 年齢: 33, (成年)\n",
            "名前: 侍二郎, 年齢: 29, (成年)\n",
            "名前: 侍三郎, 年齢: 25, (成年)\n",
            "名前: 侍四郎, 年齢: 15, (未成年)\n"
          ]
        }
      ]
    }
  ]
}