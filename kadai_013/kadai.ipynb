{
  "nbformat": 4,
  "nbformat_minor": 0,
  "metadata": {
    "colab": {
      "provenance": []
    },
    "kernelspec": {
      "name": "python3",
      "display_name": "Python 3"
    },
    "language_info": {
      "name": "python"
    }
  },
  "cells": [
    {
      "cell_type": "code",
      "execution_count": 10,
      "metadata": {
        "colab": {
          "base_uri": "https://localhost:8080/"
        },
        "id": "7EbjnsoPuC4k",
        "outputId": "db3053ac-4d01-4b4e-cf1f-974d86176b4a"
      },
      "outputs": [
        {
          "output_type": "stream",
          "name": "stdout",
          "text": [
            "110円\n"
          ]
        }
      ],
      "source": [
        "def calculate_total(price, tax_rate=0.1) -> int:\n",
        "    tax = price * tax_rate\n",
        "    total = price + tax\n",
        "    total = int(total)\n",
        "    print(f\"{total}円\")\n",
        "    return total\n",
        "\n",
        "price = 100\n",
        "total_price = calculate_total(price)\n",
        "\n"
      ]
    }
  ]
}