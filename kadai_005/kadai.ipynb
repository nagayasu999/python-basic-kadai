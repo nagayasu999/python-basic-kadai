{
  "cells": [
    {
      "cell_type": "code",
      "source": [
        "jouhen = 10\n",
        "kahen  = 20\n",
        "takasa = 5\n",
        "print(str((jouhen + kahen) * takasa / 2) + \"cm\")\n"
      ],
      "metadata": {
        "colab": {
          "base_uri": "https://localhost:8080/"
        },
        "id": "p_YIla-5XyK1",
        "outputId": "16af4b01-3615-4eed-9fd4-3c63ed9b5839"
      },
      "execution_count": 15,
      "outputs": [
        {
          "output_type": "stream",
          "name": "stdout",
          "text": [
            "75.0cm\n"
          ]
        }
      ]
    },
    {
      "cell_type": "markdown",
      "source": [],
      "metadata": {
        "id": "6zZBEsCZc0Uq"
      }
    }
  ],
  "metadata": {
    "colab": {
      "name": "Colaboratory へようこそ",
      "toc_visible": true,
      "provenance": []
    },
    "kernelspec": {
      "display_name": "Python 3",
      "name": "python3"
    }
  },
  "nbformat": 4,
  "nbformat_minor": 0
}