{
  "cells": [
    {
      "cell_type": "code",
      "source": [
        "jouhen = 10\n",
        "kahen  = 20\n",
        "takasa = 5\n",
        "area = (jouhen + kahen) * takasa / 2\n",
        "print(str(area) + \"cm²\")\n"
      ],
      "metadata": {
        "colab": {
          "base_uri": "https://localhost:8080/"
        },
        "id": "p_YIla-5XyK1",
        "outputId": "3e51c82f-2102-42e3-8475-cfdf63bcc720"
      },
      "execution_count": 9,
      "outputs": [
        {
          "output_type": "stream",
          "name": "stdout",
          "text": [
            "75.0cm²\n"
          ]
        }
      ]
    },
    {
      "cell_type": "markdown",
      "source": [],
      "metadata": {
        "id": "6zZBEsCZc0Uq"
      }
    }
  ],
  "metadata": {
    "colab": {
      "name": "Colaboratory へようこそ",
      "toc_visible": true,
      "provenance": []
    },
    "kernelspec": {
      "display_name": "Python 3",
      "name": "python3"
    }
  },
  "nbformat": 4,
  "nbformat_minor": 0
}